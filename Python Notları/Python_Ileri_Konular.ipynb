{
 "cells": [
  {
   "cell_type": "markdown",
   "metadata": {},
   "source": [
    "# Python - İleri Konular\n",
    "\n",
    "## Hata bulma\n",
    "\n",
    "### \"Syntax\" hataları\n",
    "Python öğrenirken en sık karşılaşılan hatalardandır. Genelde bu tip hataları bulabilmek nispeten daha kolay olmaktadır.\n",
    "​\n",
    "Bu tip bir hata yaparsanız program başlamadan Python yorumlayıcısı hatanın yerini gösterir. "
   ]
  },
  {
   "cell_type": "code",
   "execution_count": 1,
   "metadata": {},
   "outputs": [
    {
     "ename": "SyntaxError",
     "evalue": "invalid syntax (<ipython-input-1-aa34c6e28c30>, line 1)",
     "output_type": "error",
     "traceback": [
      "\u001b[1;36m  File \u001b[1;32m\"<ipython-input-1-aa34c6e28c30>\"\u001b[1;36m, line \u001b[1;32m1\u001b[0m\n\u001b[1;33m    for i in [1,2,3]\u001b[0m\n\u001b[1;37m                    ^\u001b[0m\n\u001b[1;31mSyntaxError\u001b[0m\u001b[1;31m:\u001b[0m invalid syntax\n"
     ]
    }
   ],
   "source": [
    "for i in [1,2,3]\n",
    "    print(i)"
   ]
  },
  {
   "cell_type": "markdown",
   "metadata": {},
   "source": [
    "### \"Exceptions\" (istisnalar)\n",
    "\n",
    "Bunlar program koşarken ortaya çıkan hatalardır. Program yazım olarak doğru olsa dahi program koşarken hata oluşabilmektedir"
   ]
  },
  {
   "cell_type": "code",
   "execution_count": 3,
   "metadata": {},
   "outputs": [
    {
     "ename": "ZeroDivisionError",
     "evalue": "division by zero",
     "output_type": "error",
     "traceback": [
      "\u001b[1;31m---------------------------------------------------------------------------\u001b[0m",
      "\u001b[1;31mZeroDivisionError\u001b[0m                         Traceback (most recent call last)",
      "\u001b[1;32m<ipython-input-3-b1f910e7de6d>\u001b[0m in \u001b[0;36m<module>\u001b[1;34m\u001b[0m\n\u001b[0;32m      1\u001b[0m \u001b[1;31m# sıfıra bölme\u001b[0m\u001b[1;33m\u001b[0m\u001b[1;33m\u001b[0m\u001b[1;33m\u001b[0m\u001b[0m\n\u001b[1;32m----> 2\u001b[1;33m \u001b[1;36m10\u001b[0m \u001b[1;33m/\u001b[0m \u001b[1;36m0\u001b[0m\u001b[1;33m\u001b[0m\u001b[1;33m\u001b[0m\u001b[0m\n\u001b[0m",
      "\u001b[1;31mZeroDivisionError\u001b[0m: division by zero"
     ]
    }
   ],
   "source": [
    "# sıfıra bölme\n",
    "10 / 0"
   ]
  },
  {
   "cell_type": "code",
   "execution_count": 4,
   "metadata": {},
   "outputs": [
    {
     "ename": "SyntaxError",
     "evalue": "can't assign to literal (<ipython-input-4-00f6ddef663d>, line 2)",
     "output_type": "error",
     "traceback": [
      "\u001b[1;36m  File \u001b[1;32m\"<ipython-input-4-00f6ddef663d>\"\u001b[1;36m, line \u001b[1;32m2\u001b[0m\n\u001b[1;33m    4 = isim_hatasi\u001b[0m\n\u001b[1;37m                   ^\u001b[0m\n\u001b[1;31mSyntaxError\u001b[0m\u001b[1;31m:\u001b[0m can't assign to literal\n"
     ]
    }
   ],
   "source": [
    "# isim hatası\n",
    "4 = isim_hatasi"
   ]
  },
  {
   "cell_type": "code",
   "execution_count": 6,
   "metadata": {},
   "outputs": [
    {
     "ename": "TypeError",
     "evalue": "can only concatenate str (not \"int\") to str",
     "output_type": "error",
     "traceback": [
      "\u001b[1;31m---------------------------------------------------------------------------\u001b[0m",
      "\u001b[1;31mTypeError\u001b[0m                                 Traceback (most recent call last)",
      "\u001b[1;32m<ipython-input-6-c49f9e103810>\u001b[0m in \u001b[0;36m<module>\u001b[1;34m\u001b[0m\n\u001b[0;32m      1\u001b[0m \u001b[1;31m# tip hatası\u001b[0m\u001b[1;33m\u001b[0m\u001b[1;33m\u001b[0m\u001b[1;33m\u001b[0m\u001b[0m\n\u001b[1;32m----> 2\u001b[1;33m \u001b[1;34m\"a\"\u001b[0m \u001b[1;33m+\u001b[0m \u001b[1;36m2\u001b[0m\u001b[1;33m\u001b[0m\u001b[1;33m\u001b[0m\u001b[0m\n\u001b[0m",
      "\u001b[1;31mTypeError\u001b[0m: can only concatenate str (not \"int\") to str"
     ]
    }
   ],
   "source": [
    "# tip hatası\n",
    "\"a\" + 2"
   ]
  },
  {
   "cell_type": "markdown",
   "metadata": {},
   "source": [
    "built-in exceptions\n",
    "\n",
    "https://docs.python.org/3/library/exceptions.html#bltin-exceptions\n",
    "\n",
    "### \"try - except\" kullanımı\n",
    "\n",
    "Çoğu zaman programda bir hata olduğunda bunu yakalayıp ona göre programın işleyişini değiştirmek veya hata mesajları çıkarmak gerekebilir. Bu sebeple try ve except yapısını kullanabilir. "
   ]
  },
  {
   "cell_type": "code",
   "execution_count": 8,
   "metadata": {},
   "outputs": [
    {
     "name": "stdout",
     "output_type": "stream",
     "text": [
      "hata\n"
     ]
    }
   ],
   "source": [
    "try:\n",
    "    \"a\" + 2\n",
    "except:\n",
    "    print(\"hata\")"
   ]
  },
  {
   "cell_type": "code",
   "execution_count": 11,
   "metadata": {},
   "outputs": [
    {
     "name": "stdout",
     "output_type": "stream",
     "text": [
      "TypeError\n"
     ]
    }
   ],
   "source": [
    "try:\n",
    "    \"a\" + 2\n",
    "except TypeError:\n",
    "    print(\"TypeError\")"
   ]
  },
  {
   "cell_type": "markdown",
   "metadata": {},
   "source": [
    "**İşlenmeyen hatalar (Unhandled exception)**"
   ]
  },
  {
   "cell_type": "code",
   "execution_count": 13,
   "metadata": {},
   "outputs": [
    {
     "ename": "ZeroDivisionError",
     "evalue": "division by zero",
     "output_type": "error",
     "traceback": [
      "\u001b[1;31m---------------------------------------------------------------------------\u001b[0m",
      "\u001b[1;31mZeroDivisionError\u001b[0m                         Traceback (most recent call last)",
      "\u001b[1;32m<ipython-input-13-b18239b2313b>\u001b[0m in \u001b[0;36m<module>\u001b[1;34m\u001b[0m\n\u001b[0;32m      1\u001b[0m \u001b[1;32mtry\u001b[0m\u001b[1;33m:\u001b[0m\u001b[1;33m\u001b[0m\u001b[1;33m\u001b[0m\u001b[0m\n\u001b[1;32m----> 2\u001b[1;33m     \u001b[1;36m10\u001b[0m \u001b[1;33m/\u001b[0m \u001b[1;36m0\u001b[0m\u001b[1;33m\u001b[0m\u001b[1;33m\u001b[0m\u001b[0m\n\u001b[0m\u001b[0;32m      3\u001b[0m \u001b[1;32mexcept\u001b[0m \u001b[0mTypeError\u001b[0m\u001b[1;33m:\u001b[0m\u001b[1;33m\u001b[0m\u001b[1;33m\u001b[0m\u001b[0m\n\u001b[0;32m      4\u001b[0m     \u001b[0mprint\u001b[0m\u001b[1;33m(\u001b[0m\u001b[1;34m\"TypeError\"\u001b[0m\u001b[1;33m)\u001b[0m\u001b[1;33m\u001b[0m\u001b[1;33m\u001b[0m\u001b[0m\n",
      "\u001b[1;31mZeroDivisionError\u001b[0m: division by zero"
     ]
    }
   ],
   "source": [
    "try:\n",
    "    10 / 0\n",
    "except TypeError:\n",
    "    print(\"TypeError\")"
   ]
  },
  {
   "cell_type": "markdown",
   "metadata": {},
   "source": [
    "**exception as e**"
   ]
  },
  {
   "cell_type": "code",
   "execution_count": 15,
   "metadata": {},
   "outputs": [
    {
     "name": "stdout",
     "output_type": "stream",
     "text": [
      "'tuple' object does not support item assignment\n"
     ]
    }
   ],
   "source": [
    "a_tuple = (1,\"bir\")\n",
    "try:\n",
    "    a_tuple[0] = \"Değiştir\"\n",
    "except Exception as e:\n",
    "    print(e)"
   ]
  },
  {
   "cell_type": "code",
   "execution_count": 16,
   "metadata": {},
   "outputs": [
    {
     "name": "stdout",
     "output_type": "stream",
     "text": [
      "\"TypeError\" hatası oluştu. Argumanlar: (\"'tuple' object does not support item assignment\",)\n"
     ]
    }
   ],
   "source": [
    "a_tuple = (1,\"bir\")\n",
    "try:\n",
    "    #10/0\n",
    "    a_tuple[0] = \"değişir mi?\" \n",
    "except Exception as ex:\n",
    "    hata_sablonu = \"\\\"{0}\\\" hatası oluştu. Argumanlar: {1}\"\n",
    "    mesaj = hata_sablonu.format(type(ex).__name__, ex.args)\n",
    "    print(mesaj)"
   ]
  },
  {
   "cell_type": "markdown",
   "metadata": {},
   "source": [
    "**`finally` anahtar kelimesi**\n",
    "\n",
    "finally kelimesini de bilmekte fayda var. bu try except kalıbından sonra bir kod bloğunun mutlaka çalışmasını istediğimiz zaman kullanılır"
   ]
  },
  {
   "cell_type": "code",
   "execution_count": 23,
   "metadata": {},
   "outputs": [
    {
     "name": "stdout",
     "output_type": "stream",
     "text": [
      "10.0\n",
      "'tuple' object does not support item assignment\n",
      "--------bunu yaz mutlaka\n"
     ]
    }
   ],
   "source": [
    "a_tuple = (1,\"bir\")\n",
    "# tuple elemanını değiştirmeye çalışalım\n",
    "try:\n",
    "    print(10/1)\n",
    "    a_tuple[0] = \"değişir mi?\"\n",
    "except Exception as e:\n",
    "    print(e)\n",
    "finally:\n",
    "    print(\"--------bunu yaz mutlaka\")"
   ]
  },
  {
   "cell_type": "markdown",
   "metadata": {},
   "source": [
    "**`raise` kalıbı**\n",
    "\n",
    "`raise` anahtar kelimesi belirli bir hatanın oluşmasını sağlar."
   ]
  },
  {
   "cell_type": "code",
   "execution_count": 24,
   "metadata": {},
   "outputs": [
    {
     "name": "stdout",
     "output_type": "stream",
     "text": [
      "Hata oluştu\n"
     ]
    }
   ],
   "source": [
    "try:\n",
    "  raise ZeroDivisionError\n",
    "except:\n",
    "  print(\"Hata oluştu\")"
   ]
  },
  {
   "cell_type": "markdown",
   "metadata": {},
   "source": [
    "Hata yönetiminde `else` anahtar kelimesi de kullanılabilir\n",
    "\n",
    "try içinde hata olmadığında else kalıbı devreye girer.\n",
    "`finally` yine en sonunda çalıştırılır."
   ]
  },
  {
   "cell_type": "code",
   "execution_count": 25,
   "metadata": {},
   "outputs": [
    {
     "name": "stdout",
     "output_type": "stream",
     "text": [
      "Hata olmazsa buraya gelir mi? Tabii ki :)\n",
      "Unutmayın finally her zaman çalışır \n"
     ]
    }
   ],
   "source": [
    "try:\n",
    "  10/1\n",
    "except:\n",
    "  print(\"Hata bulduk. Oleyyyy!!!\\n\")\n",
    "  \n",
    "else:\n",
    "  print(\"Hata olmazsa buraya gelir mi? Tabii ki :)\")\n",
    "\n",
    "finally:\n",
    "  print(\"Unutmayın finally her zaman çalışır \")"
   ]
  },
  {
   "cell_type": "markdown",
   "metadata": {},
   "source": [
    "**`assert` anahtar kelimesi**\n",
    "\n",
    "`assert` kelimesi hemen hemen tüm programlama dillerinde vardır. Programınızda hatayı erken bir şekilde bulmanızı sağlar.\n",
    "\n",
    "Python'daki eşleniği aşağıdaki ifade ile aynıdır aslında\n",
    "\n",
    "```\n",
    "if not condition:\n",
    "    raise AssertionError()\n",
    "```"
   ]
  },
  {
   "cell_type": "code",
   "execution_count": 26,
   "metadata": {},
   "outputs": [
    {
     "ename": "AssertionError",
     "evalue": "a pozitif bir sayı olmalı",
     "output_type": "error",
     "traceback": [
      "\u001b[1;31m---------------------------------------------------------------------------\u001b[0m",
      "\u001b[1;31mAssertionError\u001b[0m                            Traceback (most recent call last)",
      "\u001b[1;32m<ipython-input-26-b573a7872fb1>\u001b[0m in \u001b[0;36m<module>\u001b[1;34m\u001b[0m\n\u001b[0;32m      1\u001b[0m \u001b[0ma\u001b[0m \u001b[1;33m=\u001b[0m \u001b[1;33m-\u001b[0m\u001b[1;36m1\u001b[0m\u001b[1;33m\u001b[0m\u001b[1;33m\u001b[0m\u001b[0m\n\u001b[1;32m----> 2\u001b[1;33m \u001b[1;32massert\u001b[0m \u001b[1;36m0\u001b[0m\u001b[1;33m<\u001b[0m\u001b[0ma\u001b[0m\u001b[1;33m,\u001b[0m \u001b[1;34m\"a pozitif bir sayı olmalı\"\u001b[0m\u001b[1;33m\u001b[0m\u001b[1;33m\u001b[0m\u001b[0m\n\u001b[0m",
      "\u001b[1;31mAssertionError\u001b[0m: a pozitif bir sayı olmalı"
     ]
    }
   ],
   "source": [
    "a = -1\n",
    "assert 0<a, \"a pozitif bir sayı olmalı\""
   ]
  },
  {
   "cell_type": "markdown",
   "metadata": {},
   "source": [
    "**Kullanıcı tanımlı hatalar**\n",
    "\n",
    "Ayrıntısına girmeyeceğim fakat Exception baz sınıfını kullanarak (inherit) yapabilirsiniz."
   ]
  },
  {
   "cell_type": "code",
   "execution_count": 28,
   "metadata": {},
   "outputs": [
    {
     "ename": "hatasiz_kul_olmaz",
     "evalue": "hatamla sev beni",
     "output_type": "error",
     "traceback": [
      "\u001b[1;31m---------------------------------------------------------------------------\u001b[0m",
      "\u001b[1;31mhatasiz_kul_olmaz\u001b[0m                         Traceback (most recent call last)",
      "\u001b[1;32m<ipython-input-28-0b42a75a9e60>\u001b[0m in \u001b[0;36m<module>\u001b[1;34m\u001b[0m\n\u001b[0;32m      5\u001b[0m   \u001b[1;32mpass\u001b[0m\u001b[1;33m\u001b[0m\u001b[1;33m\u001b[0m\u001b[0m\n\u001b[0;32m      6\u001b[0m \u001b[1;33m\u001b[0m\u001b[0m\n\u001b[1;32m----> 7\u001b[1;33m \u001b[1;32mraise\u001b[0m \u001b[0mhatasiz_kul_olmaz\u001b[0m\u001b[1;33m(\u001b[0m\u001b[1;34m\"hatamla sev beni\"\u001b[0m\u001b[1;33m)\u001b[0m\u001b[1;33m\u001b[0m\u001b[1;33m\u001b[0m\u001b[0m\n\u001b[0m",
      "\u001b[1;31mhatasiz_kul_olmaz\u001b[0m: hatamla sev beni"
     ]
    }
   ],
   "source": [
    "# Kullanıcı tanımlı\n",
    "  \n",
    "# Exception \n",
    "class hatasiz_kul_olmaz(Exception): \n",
    "  pass\n",
    "\n",
    "raise hatasiz_kul_olmaz(\"hatamla sev beni\")"
   ]
  },
  {
   "cell_type": "markdown",
   "metadata": {},
   "source": [
    "------------------"
   ]
  },
  {
   "cell_type": "markdown",
   "metadata": {},
   "source": [
    "------------------"
   ]
  },
  {
   "cell_type": "markdown",
   "metadata": {},
   "source": [
    "------------------"
   ]
  },
  {
   "cell_type": "markdown",
   "metadata": {},
   "source": [
    "------------------"
   ]
  },
  {
   "cell_type": "markdown",
   "metadata": {},
   "source": [
    "## \"Comprehensions\" Üreteçler"
   ]
  },
  {
   "cell_type": "markdown",
   "metadata": {},
   "source": [
    "### `list` \"comprehensions\" (liste üreteçleri)\n",
    "\n",
    "Listeyi tek bir satır hallinde `for` içinde döndürme anlamına gelir. Python'un en güçlü olan özelliklerinden biridir.\n",
    "\n",
    "Önce normal yollardan `for` kullanımına bir göz atalım"
   ]
  },
  {
   "cell_type": "code",
   "execution_count": 29,
   "metadata": {},
   "outputs": [
    {
     "name": "stdout",
     "output_type": "stream",
     "text": [
      "[2, 4, 6, 8, 10]\n"
     ]
    }
   ],
   "source": [
    "a = [1,2,3,4,5]\n",
    "b = []\n",
    "# a'nın iki katını bir başka listeye atalım\n",
    "for i in a:\n",
    "    b.append(i*2)\n",
    "print(b)"
   ]
  },
  {
   "cell_type": "code",
   "execution_count": 31,
   "metadata": {},
   "outputs": [
    {
     "name": "stdout",
     "output_type": "stream",
     "text": [
      "[2, 4, 6, 8, 10]\n"
     ]
    }
   ],
   "source": [
    "a = [1,2,3,4,5]\n",
    "b = [i*2 for i in a]\n",
    "print(b)"
   ]
  },
  {
   "cell_type": "code",
   "execution_count": 32,
   "metadata": {},
   "outputs": [
    {
     "name": "stdout",
     "output_type": "stream",
     "text": [
      "[2, 4, 6]\n"
     ]
    }
   ],
   "source": [
    "def func(i):\n",
    "    return i*2\n",
    "\n",
    "a = [1,2,3]\n",
    "b = [func(i) for i in a]\n",
    "print(b)"
   ]
  },
  {
   "cell_type": "code",
   "execution_count": 33,
   "metadata": {},
   "outputs": [
    {
     "data": {
      "text/plain": [
       "[1, 2, 3, 2, 4, 6, 3, 6, 9]"
      ]
     },
     "execution_count": 33,
     "metadata": {},
     "output_type": "execute_result"
    }
   ],
   "source": [
    "b = [i*k for i in [1,2,3] for k in [1,2,3]]\n",
    "b"
   ]
  },
  {
   "cell_type": "code",
   "execution_count": 42,
   "metadata": {},
   "outputs": [
    {
     "name": "stdout",
     "output_type": "stream",
     "text": [
      "[1, 1, 1, 2, 2, 2, 3, 3, 3, 2, 2, 2, 4, 4, 4, 6, 6, 6, 3, 3, 3, 6, 6, 6, 9, 9, 9, 2, 2, 2, 4, 4, 4, 6, 6, 6, 4, 4, 4, 8, 8, 8, 12, 12, 12, 6, 6, 6, 12, 12, 12, 18, 18, 18, 3, 3, 3, 6, 6, 6, 9, 9, 9, 6, 6, 6, 12, 12, 12, 18, 18, 18, 9, 9, 9, 18, 18, 18, 27, 27, 27]\n"
     ]
    }
   ],
   "source": [
    "b = [x*y*k for x in [1,2,3] for y in [1,2,3] for k in [1,2,3] for l in [1,2,3]]\n",
    "print(b)"
   ]
  },
  {
   "cell_type": "markdown",
   "metadata": {},
   "source": [
    "Önemli bir özellik `if` kalıbını da bunların içinde kullanabilmektir."
   ]
  },
  {
   "cell_type": "code",
   "execution_count": 38,
   "metadata": {},
   "outputs": [
    {
     "data": {
      "text/plain": [
       "[1, 3, 5]"
      ]
     },
     "execution_count": 38,
     "metadata": {},
     "output_type": "execute_result"
    }
   ],
   "source": [
    "a = [1,2,3,4,5]\n",
    "b = []\n",
    "for i in a:\n",
    "    if i%2==1:\n",
    "        b.append(i)\n",
    "b"
   ]
  },
  {
   "cell_type": "code",
   "execution_count": 39,
   "metadata": {},
   "outputs": [
    {
     "data": {
      "text/plain": [
       "[1, 3, 5]"
      ]
     },
     "execution_count": 39,
     "metadata": {},
     "output_type": "execute_result"
    }
   ],
   "source": [
    "\n",
    "[i for i in [1,2,3,4,5] if i%2==1]"
   ]
  },
  {
   "cell_type": "code",
   "execution_count": 50,
   "metadata": {},
   "outputs": [
    {
     "data": {
      "text/plain": [
       "[1, 42, 3, 42, 5, 42, 7, 42]"
      ]
     },
     "execution_count": 50,
     "metadata": {},
     "output_type": "execute_result"
    }
   ],
   "source": [
    "[i  if i%2==1 else 42 for i in [1,2,3,4,5,6,7,8]]"
   ]
  },
  {
   "cell_type": "markdown",
   "metadata": {},
   "source": [
    "**\"comprehension\" `dict`,`set`, `tuple` için de geçerlidir**\n",
    "\n",
    "`dict` örneği\n",
    "\n",
    "Bunun için `key`:`value` eşlerini yazmamız gerekiyor."
   ]
  },
  {
   "cell_type": "code",
   "execution_count": 48,
   "metadata": {},
   "outputs": [
    {
     "name": "stdout",
     "output_type": "stream",
     "text": [
      "{0: 0, 2: 4, 4: 16}\n"
     ]
    }
   ],
   "source": [
    "nums = [ 0, 1, 2, 3, 4]\n",
    "even_num_to_square = {x:x**2 for x in nums if x%2 == 0 }\n",
    "print(even_num_to_square)  # Prints \"{0: 0, 2: 4, 4: 16}\""
   ]
  },
  {
   "cell_type": "markdown",
   "metadata": {},
   "source": [
    "`set` örneği\n",
    "\n",
    "`set` veri tipi için de geçerlidir. Yazımı `dict`e benzer, fakat burada `key`, `value` girmeyiz."
   ]
  },
  {
   "cell_type": "code",
   "execution_count": 54,
   "metadata": {},
   "outputs": [
    {
     "data": {
      "text/plain": [
       "{0, 1, 2, 3, 4, 5}"
      ]
     },
     "execution_count": 54,
     "metadata": {},
     "output_type": "execute_result"
    }
   ],
   "source": [
    "from math import sqrt\n",
    "nums = {int(sqrt(x)) for x in range(30)}\n",
    "nums"
   ]
  },
  {
   "cell_type": "markdown",
   "metadata": {},
   "source": [
    ">Not: `tuple` comprehension biraz daha değişik başına tuple koymamız gerekiyor. Çünkü yuvarlak parantez ilerleyen bölümlerde göreceğimiz `generators` için rezerve olmuş durumda"
   ]
  },
  {
   "cell_type": "code",
   "execution_count": 55,
   "metadata": {},
   "outputs": [
    {
     "name": "stdout",
     "output_type": "stream",
     "text": [
      "<generator object <genexpr> at 0x0000015AC19789C8>\n"
     ]
    }
   ],
   "source": [
    "tuple_ex = (i**2 for i in range(5))\n",
    "print(tuple_ex)\n"
   ]
  },
  {
   "cell_type": "code",
   "execution_count": 56,
   "metadata": {},
   "outputs": [
    {
     "name": "stdout",
     "output_type": "stream",
     "text": [
      "(0, 1, 4, 9, 16, 25, 36, 49, 64, 81)\n"
     ]
    }
   ],
   "source": [
    "tuple_ex = tuple(i**2 for i in range(10))\n",
    "print(tuple_ex)"
   ]
  },
  {
   "cell_type": "markdown",
   "metadata": {},
   "source": [
    "* --------------------------------"
   ]
  },
  {
   "cell_type": "markdown",
   "metadata": {},
   "source": [
    "* --------------------------------"
   ]
  },
  {
   "cell_type": "markdown",
   "metadata": {},
   "source": [
    " ## `enumerate`, `zip`,`filter`,`map` fonksiyonları"
   ]
  },
  {
   "cell_type": "markdown",
   "metadata": {},
   "source": [
    "Bir `for` işlemi sırasında eleman sayısını almamıza yarar."
   ]
  },
  {
   "cell_type": "code",
   "execution_count": 58,
   "metadata": {},
   "outputs": [
    {
     "name": "stdout",
     "output_type": "stream",
     "text": [
      "1 elma\n",
      "2 armut\n",
      "3 muz\n"
     ]
    }
   ],
   "source": [
    "i = 1\n",
    "for meyve in [\"elma\",\"armut\",\"muz\"]:\n",
    "    print(i,end=\" \")\n",
    "    print(meyve)\n",
    "    i = i + 1"
   ]
  },
  {
   "cell_type": "code",
   "execution_count": 61,
   "metadata": {},
   "outputs": [
    {
     "name": "stdout",
     "output_type": "stream",
     "text": [
      "1 - elma\n",
      "2 - armut\n",
      "3 - muz\n"
     ]
    }
   ],
   "source": [
    "for counter,meyve in enumerate([\"elma\",\"armut\",\"muz\"],1):\n",
    "    print(\"{} - {}\".format(counter,meyve))"
   ]
  },
  {
   "cell_type": "markdown",
   "metadata": {},
   "source": [
    ">`zip`\n",
    "\n",
    "for döngüsü ile listeyi döndürebildiğimiz görmüştük. peki iki liste döndürmemiz gerekirse ne yapmalıyız. zip imdadımıza yetişecek."
   ]
  },
  {
   "cell_type": "code",
   "execution_count": 65,
   "metadata": {},
   "outputs": [
    {
     "name": "stdout",
     "output_type": "stream",
     "text": [
      "1 ve 4\n",
      "2 ve 5\n",
      "3 ve 6\n"
     ]
    }
   ],
   "source": [
    "for x,y in zip([1,2,3],[4,5,6]):\n",
    "    print(\"{} ve {}\".format(x,y))"
   ]
  },
  {
   "cell_type": "markdown",
   "metadata": {},
   "source": [
    "> `filter`"
   ]
  },
  {
   "cell_type": "markdown",
   "metadata": {},
   "source": [
    "Bir listeyi filtrelemek istersek filter fonksiyonu imdadımıza yetişir. \n",
    "\n",
    "`filter(function,liste)` şeklinde bir syntax kullanmak gerekir"
   ]
  },
  {
   "cell_type": "code",
   "execution_count": 67,
   "metadata": {},
   "outputs": [],
   "source": [
    "def tek_sayi(x):\n",
    "    return x%2 == 1"
   ]
  },
  {
   "cell_type": "code",
   "execution_count": 69,
   "metadata": {},
   "outputs": [
    {
     "name": "stdout",
     "output_type": "stream",
     "text": [
      "[1, 3, 5, 7, 9]\n"
     ]
    }
   ],
   "source": [
    "a = [0,1,2,3,4,5,6,7,8,9]\n",
    "b = list(filter(tek_sayi,a))\n",
    "print(b)"
   ]
  },
  {
   "cell_type": "markdown",
   "metadata": {},
   "source": [
    "> `Lambda` ile kullanımı"
   ]
  },
  {
   "cell_type": "code",
   "execution_count": 74,
   "metadata": {},
   "outputs": [
    {
     "name": "stdout",
     "output_type": "stream",
     "text": [
      "[1, 3, 5, 7, 9]\n"
     ]
    }
   ],
   "source": [
    "f = lambda x: x%2==1\n",
    "a = [0,1,2,3,4,5,6,7,8,9]\n",
    "b = list(filter(f,a))\n",
    "print(b)"
   ]
  },
  {
   "cell_type": "markdown",
   "metadata": {},
   "source": [
    ">`map`\n",
    "\n",
    "Listenin her elemanına bir operasyon uygulanmasını istiyorsak `map` fonksiyonunu kullanırız.`filter` fonksiyonuna çok benzer"
   ]
  },
  {
   "cell_type": "code",
   "execution_count": 72,
   "metadata": {},
   "outputs": [
    {
     "name": "stdout",
     "output_type": "stream",
     "text": [
      "[1, 4, 9, 16, 25, 36, 49, 64, 81]\n"
     ]
    }
   ],
   "source": [
    "f = lambda x: x*x\n",
    "a = [1,2,3,4,5,6,7,8,9]\n",
    "b = list(map(f,a))\n",
    "print(b)"
   ]
  },
  {
   "cell_type": "markdown",
   "metadata": {},
   "source": [
    "--------------------------------------"
   ]
  },
  {
   "cell_type": "markdown",
   "metadata": {},
   "source": [
    "--------------------------------------"
   ]
  },
  {
   "cell_type": "markdown",
   "metadata": {},
   "source": [
    "## Iterators And Generators"
   ]
  },
  {
   "cell_type": "markdown",
   "metadata": {},
   "source": [
    ">*\"iterator nedir\"*\n",
    "\n",
    "Bir yineleyici yani *\"iterator\"*, sayılabilir değerler içeren bir nesnedir. Bu nesne her adımda yeni bir değer üretir. \n",
    "\n",
    "Yani çok basit bir tabirle bir *\"iterator\"*e hangi eleman sırada diye sorulduğunda bunun cevabını bulabiliriz.\n",
    "\n",
    ">*\"iterable\"* ve *\"iterator\"* ayrımı\n",
    "\n",
    "Lists, tuples, dictionaries, ve sets gibi yapılar *\"iterable\"* olarak sınıflandırılır. \n",
    "*\"iterator\"* ler sayesinde *\"iterable\"* öğelerinde dolaşabiliriz.\n",
    "\n",
    ">`iter()` ve `next()` fonksiyonları\n",
    "\n",
    "`iter()` fonksiyonu da bir *\"iterable\"* alıp *\"iterator\"* haline dönüştürür. \n",
    "\n",
    "`next()` fonksiyonu ise *\"iterator\"* kullanarak bir sonraki değeri/işlem sonucunu almamızı sağlar "
   ]
  },
  {
   "cell_type": "code",
   "execution_count": 84,
   "metadata": {},
   "outputs": [],
   "source": [
    "# iterable (liste)\n",
    "a = [1,2,3,4]\n",
    "# iterator oluşturuluyor\n",
    "a_iter = iter(a)"
   ]
  },
  {
   "cell_type": "code",
   "execution_count": 87,
   "metadata": {},
   "outputs": [
    {
     "name": "stdout",
     "output_type": "stream",
     "text": [
      "3\n"
     ]
    }
   ],
   "source": [
    "print(next(a_iter))"
   ]
  },
  {
   "cell_type": "markdown",
   "metadata": {},
   "source": [
    "Eğer bir `for` döngüsü kullandıysanız mutlaka bu konseptleri farkında olmadan kullanmışsınız demektir :)\n",
    "\n",
    "> `for` döngüsü *iterator* bakış açısına göre nasıl işlemektedir.\n",
    "\n",
    "`for` loop aslında `while` döngüsünden türemektedir.\n",
    "\n",
    "```\n",
    " *iterable* kullanarak bir *iterator* oluştur\n",
    "\n",
    "iter_obj = iter(iterable)\n",
    "\n",
    "    # sonsuz döngü\n",
    "\n",
    "while True:\n",
    "\n",
    "    try:\n",
    "        # bir sonraki elemanı al\n",
    "        element = next(iter_obj)\n",
    "        # bu eleman ile birşeyler yap\n",
    "    except StopIteration:\n",
    "        # StopIteration hatası gelirse döngüden çık\n",
    "        break \n",
    "```"
   ]
  },
  {
   "cell_type": "code",
   "execution_count": 88,
   "metadata": {},
   "outputs": [
    {
     "name": "stdout",
     "output_type": "stream",
     "text": [
      "1\n",
      "2\n",
      "3\n",
      "4\n"
     ]
    }
   ],
   "source": [
    "a = [1,2,3,4]\n",
    "for i in a:\n",
    "    print(i)"
   ]
  },
  {
   "cell_type": "code",
   "execution_count": 91,
   "metadata": {},
   "outputs": [
    {
     "name": "stdout",
     "output_type": "stream",
     "text": [
      "1\n",
      "2\n",
      "3\n",
      "4\n"
     ]
    }
   ],
   "source": [
    "a = [1,2,3,4]\n",
    "a_iter = iter(a)\n",
    "\n",
    "while True:\n",
    "    try:\n",
    "        element = next(a_iter)\n",
    "        print(element)\n",
    "    except StopIteration:\n",
    "        break"
   ]
  },
  {
   "cell_type": "markdown",
   "metadata": {},
   "source": [
    ">*\"iterator\"* hazırlamak"
   ]
  },
  {
   "cell_type": "markdown",
   "metadata": {},
   "source": [
    "İki tane metodu `__iter__()` ve `__next__()` olan bir sınıf yaratıp iterator hazırlayabiliriz. \n",
    "\n",
    "`__next__()` metodunda duracağımız koşul için `StopIteration` hatasını oluşturmamız gerekir. Bunu da `raise` kullanarak yapabiliriz.\n",
    "\n",
    "Örnek olarak istediğimiz bir sayıdan geriye doğru sayan ve 0'da sonlanan bir iterator yapalım"
   ]
  },
  {
   "cell_type": "code",
   "execution_count": 93,
   "metadata": {},
   "outputs": [],
   "source": [
    "class GeriSayim:\n",
    "    \n",
    "    def __init__(self,maks = 20):\n",
    "        self.maks = maks\n",
    "    \n",
    "    def __iter__(self):\n",
    "        self.a = self.maks\n",
    "        return self\n",
    "    \n",
    "    def __next__(self):\n",
    "        if self.a >= 0:\n",
    "            x = self.a\n",
    "            self.a -= 1\n",
    "            return x\n",
    "        else:\n",
    "            raise StopIteration"
   ]
  },
  {
   "cell_type": "code",
   "execution_count": 95,
   "metadata": {},
   "outputs": [],
   "source": [
    "rakamlar = GeriSayim(5)"
   ]
  },
  {
   "cell_type": "code",
   "execution_count": 99,
   "metadata": {},
   "outputs": [],
   "source": [
    "myiter = iter(rakamlar)"
   ]
  },
  {
   "cell_type": "code",
   "execution_count": 97,
   "metadata": {},
   "outputs": [
    {
     "name": "stdout",
     "output_type": "stream",
     "text": [
      "5\n",
      "4\n",
      "3\n",
      "2\n",
      "1\n",
      "0\n"
     ]
    }
   ],
   "source": [
    "for x in myiter:\n",
    "  print(x)"
   ]
  },
  {
   "cell_type": "code",
   "execution_count": 100,
   "metadata": {},
   "outputs": [
    {
     "data": {
      "text/plain": [
       "5"
      ]
     },
     "execution_count": 100,
     "metadata": {},
     "output_type": "execute_result"
    }
   ],
   "source": [
    "next(rakamlar)"
   ]
  },
  {
   "cell_type": "code",
   "execution_count": 101,
   "metadata": {},
   "outputs": [
    {
     "data": {
      "text/plain": [
       "[5, 4, 3, 2, 1, 0]"
      ]
     },
     "execution_count": 101,
     "metadata": {},
     "output_type": "execute_result"
    }
   ],
   "source": [
    "myiter = iter(rakamlar)\n",
    "[i for i in myiter]"
   ]
  },
  {
   "cell_type": "markdown",
   "metadata": {},
   "source": [
    ">**generator**\n",
    "\n",
    "Bunlar kolay bir şekilde iterator yaratmamızı sağlar.\n",
    "\n",
    "Bunu yaratmak için bir fonksiyonda `return` yerine `yield` yazmamız gerekir \n",
    "\n",
    "Generator yapmak için normal bir fonksiyon gibi tanımlamaya başlarız"
   ]
  },
  {
   "cell_type": "code",
   "execution_count": 102,
   "metadata": {},
   "outputs": [],
   "source": [
    "def geri_sayim(sayi):\n",
    "    while sayi>=0:\n",
    "        yield sayi\n",
    "        sayi = sayi -1"
   ]
  },
  {
   "cell_type": "code",
   "execution_count": 103,
   "metadata": {},
   "outputs": [
    {
     "name": "stdout",
     "output_type": "stream",
     "text": [
      "<generator object geri_sayim at 0x0000015AC1DD1248>\n"
     ]
    }
   ],
   "source": [
    "a = geri_sayim(10)\n",
    "print(a)"
   ]
  },
  {
   "cell_type": "code",
   "execution_count": 104,
   "metadata": {},
   "outputs": [
    {
     "data": {
      "text/plain": [
       "10"
      ]
     },
     "execution_count": 104,
     "metadata": {},
     "output_type": "execute_result"
    }
   ],
   "source": [
    "next(a)"
   ]
  },
  {
   "cell_type": "code",
   "execution_count": 106,
   "metadata": {},
   "outputs": [
    {
     "name": "stdout",
     "output_type": "stream",
     "text": [
      "20 19 18 17 16 15 14 13 12 11 10 9 8 7 6 5 4 3 2 1 0 "
     ]
    }
   ],
   "source": [
    "a = geri_sayim(20)\n",
    "for i in a:\n",
    "    print(i,end=\" \")"
   ]
  },
  {
   "cell_type": "markdown",
   "metadata": {},
   "source": [
    "> \"generator expressions\" \n",
    "\n",
    "generator'leri \"list comprehension\" tarzında bir yazım ile tek bir satır halinde oluşturmak mümkün. "
   ]
  },
  {
   "cell_type": "code",
   "execution_count": 111,
   "metadata": {},
   "outputs": [
    {
     "name": "stdout",
     "output_type": "stream",
     "text": [
      "1 4 9 16 "
     ]
    }
   ],
   "source": [
    "liste = [1,2,3,4]\n",
    "gen = (i**2 for i in liste) # tuple döndürmez Generator döndürür.\n",
    "for a in gen:\n",
    "    print(a,end=\" \")"
   ]
  },
  {
   "cell_type": "markdown",
   "metadata": {},
   "source": [
    "Bunu doğrudan list comprehension değil de bu şekilde yapmamızın sebebi \"memory\" de daha az yer kaplamasıdır. Bunu `getsizeof` kullanarak örneklendirelim "
   ]
  },
  {
   "cell_type": "code",
   "execution_count": 114,
   "metadata": {},
   "outputs": [
    {
     "name": "stdout",
     "output_type": "stream",
     "text": [
      "120\n",
      "87624\n"
     ]
    }
   ],
   "source": [
    "import sys\n",
    "\n",
    "gen = (i**2 for i in range(10000))\n",
    "print(sys.getsizeof(gen))\n",
    "gen_lc = [i**2 for i in range(10000)]#list comprehension\n",
    "print(sys.getsizeof(gen_lc))"
   ]
  },
  {
   "cell_type": "markdown",
   "metadata": {},
   "source": [
    "**NOT**: Veriniz sahip olduğunuz hafızadan daha büyükse generator kullanmak işlemlerinizi çok hızlandırabilir. Eğer küçük verilerle uğraşıyorsanız list comprehension işinizi fazlasıyla görecektir. "
   ]
  },
  {
   "cell_type": "markdown",
   "metadata": {},
   "source": [
    "-----------------------------------------"
   ]
  },
  {
   "cell_type": "markdown",
   "metadata": {},
   "source": [
    "-----------------------------------------"
   ]
  },
  {
   "cell_type": "markdown",
   "metadata": {},
   "source": [
    "-----------------------------------------"
   ]
  },
  {
   "cell_type": "markdown",
   "metadata": {},
   "source": [
    "### Dosya Operasyonları ve Context Manager'lar (İçerik Yöneticileri)\n",
    "\n",
    "Dosya okuma ve yazma işlevlerine biraz göz atalım. Öncelikle basit bir dosya hazırlayıp çalıştığımız dizine atalım"
   ]
  },
  {
   "cell_type": "code",
   "execution_count": 142,
   "metadata": {},
   "outputs": [],
   "source": [
    "f = open(\"deneme.txt\")"
   ]
  },
  {
   "cell_type": "code",
   "execution_count": 143,
   "metadata": {},
   "outputs": [
    {
     "name": "stdout",
     "output_type": "stream",
     "text": [
      "Merhaba Dunya\n",
      "Merhaba Dunya\n",
      "Merhaba Dunya\n"
     ]
    }
   ],
   "source": [
    "print(f.read())"
   ]
  },
  {
   "cell_type": "markdown",
   "metadata": {},
   "source": [
    "`readLine()` fonksiyonu satırları okur"
   ]
  },
  {
   "cell_type": "code",
   "execution_count": 127,
   "metadata": {},
   "outputs": [],
   "source": [
    "f.close()"
   ]
  },
  {
   "cell_type": "code",
   "execution_count": 132,
   "metadata": {},
   "outputs": [
    {
     "name": "stdout",
     "output_type": "stream",
     "text": [
      "Merhaba Dunya\n",
      "\n",
      "<<<<<<<<<<<ilk satır tamam\n",
      "Merhaba Dunya\n",
      "\n",
      "<<<<<<<<<<<ikinci satır tamam\n",
      "Merhaba Dunya\n",
      "<<<<<<<<<<<üçüncü satır tamam\n"
     ]
    }
   ],
   "source": [
    "f = open(\"deneme.txt\")\n",
    "print(f.readline())\n",
    "print(\"<<<<<<<<<<<ilk satır tamam\")\n",
    "print(f.readline())\n",
    "print(\"<<<<<<<<<<<ikinci satır tamam\")\n",
    "print(f.readline())\n",
    "print(\"<<<<<<<<<<<üçüncü satır tamam\")\n",
    "f.close()"
   ]
  },
  {
   "cell_type": "code",
   "execution_count": 137,
   "metadata": {},
   "outputs": [
    {
     "name": "stdout",
     "output_type": "stream",
     "text": [
      "0. satır\n",
      "Merhaba Dunya\n",
      "\n",
      "1. satır\n",
      "Merhaba Dunya\n",
      "\n",
      "2. satır\n",
      "Merhaba Dunya\n"
     ]
    }
   ],
   "source": [
    "f = open(\"deneme.txt\")\n",
    "for i,satir in enumerate(f):\n",
    "    print(\"{}. satır\".format(i))\n",
    "    print(satir)\n",
    "f.close()"
   ]
  },
  {
   "cell_type": "code",
   "execution_count": 145,
   "metadata": {},
   "outputs": [],
   "source": [
    "f = open(\"deneme.txt\",\"a\")\n",
    "f.write(\"\\nekleme yapalım\")\n",
    "f.close()"
   ]
  },
  {
   "cell_type": "code",
   "execution_count": 149,
   "metadata": {},
   "outputs": [
    {
     "name": "stdout",
     "output_type": "stream",
     "text": [
      "Merhaba Dunya\n",
      "Merhaba Dunya\n",
      "Merhaba Dunya\n",
      "ekleme yapalım\n"
     ]
    }
   ],
   "source": [
    "f = open(\"deneme.txt\")\n",
    "print(f.read())"
   ]
  },
  {
   "cell_type": "code",
   "execution_count": 162,
   "metadata": {},
   "outputs": [],
   "source": [
    "f = open(\"ornek_dosya2.txt\",\"w\")\n",
    "f.write(\"Merhaba dunya\")\n",
    "f.close()"
   ]
  },
  {
   "cell_type": "code",
   "execution_count": 158,
   "metadata": {},
   "outputs": [
    {
     "name": "stdout",
     "output_type": "stream",
     "text": [
      "Merhaba dunya\n"
     ]
    }
   ],
   "source": [
    "f = open(\"ornek_dosya2.txt\")\n",
    "print(f.read())"
   ]
  },
  {
   "cell_type": "code",
   "execution_count": 157,
   "metadata": {},
   "outputs": [
    {
     "ename": "FileExistsError",
     "evalue": "[Errno 17] File exists: 'ornek_dosya2.txt'",
     "output_type": "error",
     "traceback": [
      "\u001b[1;31m---------------------------------------------------------------------------\u001b[0m",
      "\u001b[1;31mFileExistsError\u001b[0m                           Traceback (most recent call last)",
      "\u001b[1;32m<ipython-input-157-9d312407dfb6>\u001b[0m in \u001b[0;36m<module>\u001b[1;34m\u001b[0m\n\u001b[1;32m----> 1\u001b[1;33m \u001b[0mf\u001b[0m \u001b[1;33m=\u001b[0m \u001b[0mopen\u001b[0m\u001b[1;33m(\u001b[0m\u001b[1;34m\"ornek_dosya2.txt\"\u001b[0m\u001b[1;33m,\u001b[0m\u001b[1;34m\"x\"\u001b[0m\u001b[1;33m)\u001b[0m\u001b[1;33m\u001b[0m\u001b[1;33m\u001b[0m\u001b[0m\n\u001b[0m\u001b[0;32m      2\u001b[0m \u001b[0mf\u001b[0m\u001b[1;33m.\u001b[0m\u001b[0mwrite\u001b[0m\u001b[1;33m(\u001b[0m\u001b[1;34m\"Merhaba dunya\"\u001b[0m\u001b[1;33m)\u001b[0m\u001b[1;33m\u001b[0m\u001b[1;33m\u001b[0m\u001b[0m\n\u001b[0;32m      3\u001b[0m \u001b[0mf\u001b[0m\u001b[1;33m.\u001b[0m\u001b[0mclose\u001b[0m\u001b[1;33m(\u001b[0m\u001b[1;33m)\u001b[0m\u001b[1;33m\u001b[0m\u001b[1;33m\u001b[0m\u001b[0m\n",
      "\u001b[1;31mFileExistsError\u001b[0m: [Errno 17] File exists: 'ornek_dosya2.txt'"
     ]
    }
   ],
   "source": [
    "f = open(\"ornek_dosya2.txt\",\"x\")\n",
    "f.write(\"Merhaba dunya\")\n",
    "f.close()"
   ]
  },
  {
   "cell_type": "code",
   "execution_count": 156,
   "metadata": {},
   "outputs": [
    {
     "ename": "PermissionError",
     "evalue": "[WinError 32] Dosya başka bir işlem tarafından kullanıldığından bu işlem dosyaya erişemiyor: 'ornek_dosya2.txt'",
     "output_type": "error",
     "traceback": [
      "\u001b[1;31m---------------------------------------------------------------------------\u001b[0m",
      "\u001b[1;31mPermissionError\u001b[0m                           Traceback (most recent call last)",
      "\u001b[1;32m<ipython-input-156-a39983af3172>\u001b[0m in \u001b[0;36m<module>\u001b[1;34m\u001b[0m\n\u001b[0;32m      1\u001b[0m \u001b[1;32mimport\u001b[0m \u001b[0mos\u001b[0m\u001b[1;33m\u001b[0m\u001b[1;33m\u001b[0m\u001b[0m\n\u001b[1;32m----> 2\u001b[1;33m \u001b[0mos\u001b[0m\u001b[1;33m.\u001b[0m\u001b[0mremove\u001b[0m\u001b[1;33m(\u001b[0m\u001b[1;34m\"ornek_dosya2.txt\"\u001b[0m\u001b[1;33m)\u001b[0m\u001b[1;33m\u001b[0m\u001b[1;33m\u001b[0m\u001b[0m\n\u001b[0m",
      "\u001b[1;31mPermissionError\u001b[0m: [WinError 32] Dosya başka bir işlem tarafından kullanıldığından bu işlem dosyaya erişemiyor: 'ornek_dosya2.txt'"
     ]
    }
   ],
   "source": [
    "import os\n",
    "os.remove(\"ornek_dosya2.txt\")"
   ]
  },
  {
   "cell_type": "code",
   "execution_count": 155,
   "metadata": {},
   "outputs": [
    {
     "data": {
      "text/plain": [
       "True"
      ]
     },
     "execution_count": 155,
     "metadata": {},
     "output_type": "execute_result"
    }
   ],
   "source": [
    "# varlığını kontrol edelim\n",
    "os.path.exists(\"ornek_dosya2.txt\")"
   ]
  },
  {
   "cell_type": "markdown",
   "metadata": {},
   "source": [
    ">Context Manager ve `with` kullanımı\n",
    "\n",
    "Tüm programlama dillerinde dosya açılması, veritabanı kullanılması gibi kaynak gerektiren işlemlere dikkat edilmesi gerekir. Çünkü program yazarken kullanabilceğiniz kaynaklar sınırlıdır. Bu sebeple kullanılmayan kaynakların kapatıldığından emin olmanız gerekir. \n",
    "\n",
    "Python kaynak kullanımını kolaylaştırmak için `context manager` kavramını kullanmaktadır. Bunun için `with` anahtar kelimesi kullanılır\n",
    "\n",
    ">Dosya yazmak/okumak için önerilen metot\n",
    "\n",
    "Sürekli `f.close()` yapma zahmetinden kurtulabilmek için with \"context manager\" kullanabilirsiniz\n"
   ]
  },
  {
   "cell_type": "code",
   "execution_count": 160,
   "metadata": {},
   "outputs": [
    {
     "name": "stdout",
     "output_type": "stream",
     "text": [
      "Merhaba Dunya\n",
      "Merhaba Dunya\n",
      "Merhaba Dunya\n",
      "ekleme yapalım\n"
     ]
    }
   ],
   "source": [
    "with open(\"deneme.txt\") as f:\n",
    "    print(f.read())"
   ]
  },
  {
   "cell_type": "markdown",
   "metadata": {},
   "source": [
    ">Context Manager hazırlama!\n",
    "\n",
    "İsterseniz siz de bir context manager hazırlayabilirsiniz :) Bunun için `__enter__` ve `__exit__` metodlarını yazmanız gerekir. \n",
    "\n",
    "Ne işimize yarar derseniz örneğin her bir dosyaya okumaya başlamadan önce bunu kullanarak standart bir operasyon yapabilirsiniz. "
   ]
  },
  {
   "cell_type": "code",
   "execution_count": 172,
   "metadata": {},
   "outputs": [
    {
     "name": "stdout",
     "output_type": "stream",
     "text": [
      "\n",
      "init metodu çağrıldı\n",
      "\n",
      "Enter metodu çağrıldı\n",
      "\n",
      "Dosya adı deneme.txt\n",
      "\n",
      "Exit Metodu Çağrıldı\n",
      "Dosya Kapandı\n"
     ]
    }
   ],
   "source": [
    "class ornekCM:\n",
    "    \n",
    "    def __init__(self,dosya_adi,mod):\n",
    "        print(\"\\ninit metodu çağrıldı\")\n",
    "        self.dosya_adi = dosya_adi\n",
    "        self.mod = mod\n",
    "        self.dosya = None\n",
    "        \n",
    "    def __enter__(self):\n",
    "        print(\"\\nEnter metodu çağrıldı\")\n",
    "        print(\"\\nDosya adı {}\".format(self.dosya_adi))\n",
    "        self.dosya = open(self.dosya_adi, self.mod) \n",
    "        return self.dosya\n",
    "        \n",
    "    def __exit__(self,exc_type, exc_value, exc_traceback):\n",
    "        print(\"\\nExit Metodu Çağrıldı\")\n",
    "        print(\"Dosya Kapandı\")\n",
    "        self.dosya.close()\n",
    "        \n",
    "# Loading a file\n",
    "\n",
    "with ornekCM(\"deneme.txt\",\"a\") as f:\n",
    "    f.write(\"\\neklendi\")\n",
    "        \n",
    "        "
   ]
  },
  {
   "cell_type": "markdown",
   "metadata": {},
   "source": [
    "## Dekoratörler\n",
    "\n",
    "Dekoratörler bir fonksiyonu modifiye etmeden onun davranışını genişleten üst seviye fonksiyonlardır.\n",
    "\n",
    "Dekoratörleri incelemeden fonksiyonlarla ilgili birkaç püf noktasını hatırlayalım"
   ]
  },
  {
   "cell_type": "code",
   "execution_count": 173,
   "metadata": {},
   "outputs": [],
   "source": [
    "def hey():\n",
    "    print(\"heyyyyyyyy\")"
   ]
  },
  {
   "cell_type": "code",
   "execution_count": 175,
   "metadata": {},
   "outputs": [],
   "source": [
    "def basit_dek(func):\n",
    "    \n",
    "    #wrapper\n",
    "    def sarmala():\n",
    "        print(\"fonksiyon öncesi işlemler\")\n",
    "        func()\n",
    "        print(\"fonksiyon sonrası işlemler\")\n",
    "    return sarmala\n"
   ]
  },
  {
   "cell_type": "code",
   "execution_count": 176,
   "metadata": {},
   "outputs": [
    {
     "name": "stdout",
     "output_type": "stream",
     "text": [
      "heyyyyyyyy\n"
     ]
    }
   ],
   "source": [
    "hey()"
   ]
  },
  {
   "cell_type": "code",
   "execution_count": 177,
   "metadata": {},
   "outputs": [
    {
     "name": "stdout",
     "output_type": "stream",
     "text": [
      "fonksiyon öncesi işlemler\n",
      "heyyyyyyyy\n",
      "fonksiyon sonrası işlemler\n"
     ]
    }
   ],
   "source": [
    "hey_dek = basit_dek(hey)\n",
    "hey_dek()"
   ]
  },
  {
   "cell_type": "code",
   "execution_count": 180,
   "metadata": {},
   "outputs": [
    {
     "name": "stdout",
     "output_type": "stream",
     "text": [
      "fonksiyon öncesi işlemler\n",
      "heyyy\n",
      "fonksiyon sonrası işlemler\n"
     ]
    }
   ],
   "source": [
    "@basit_dek\n",
    "def func():\n",
    "    print(\"heyyy\")\n",
    "func()"
   ]
  },
  {
   "cell_type": "markdown",
   "metadata": {},
   "source": [
    ">**static method** - dekoratör örneği"
   ]
  },
  {
   "cell_type": "markdown",
   "metadata": {},
   "source": [
    "statik metod sınıfın kendisinden erişebileceğiniz metotlardır. Bu metotlar için nesne yaratmanıza gerek yoktur.\n",
    "\n",
    "Bunu Python'da `@staticmethod` dekoratörünü kullanarak yapmamız mümkün\n",
    "\n",
    "Not: dekoratörler bir fonksiyonu saran ve onun davranışını değiştiren yapılardır. Şimdilik bu konuya girmeyeceğim ileri konularda bahsederiz."
   ]
  },
  {
   "cell_type": "code",
   "execution_count": 182,
   "metadata": {},
   "outputs": [
    {
     "name": "stdout",
     "output_type": "stream",
     "text": [
      "13\n"
     ]
    }
   ],
   "source": [
    "class deneme(object):\n",
    "    @staticmethod\n",
    "    def statik_metot(x):\n",
    "        print(x)\n",
    "        \n",
    "deneme.statik_metot(13)"
   ]
  }
 ],
 "metadata": {
  "kernelspec": {
   "display_name": "Python 3",
   "language": "python",
   "name": "python3"
  },
  "language_info": {
   "codemirror_mode": {
    "name": "ipython",
    "version": 3
   },
   "file_extension": ".py",
   "mimetype": "text/x-python",
   "name": "python",
   "nbconvert_exporter": "python",
   "pygments_lexer": "ipython3",
   "version": "3.7.4"
  }
 },
 "nbformat": 4,
 "nbformat_minor": 2
}
