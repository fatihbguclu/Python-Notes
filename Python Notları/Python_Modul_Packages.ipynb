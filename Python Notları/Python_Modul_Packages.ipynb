{
 "cells": [
  {
   "cell_type": "markdown",
   "metadata": {},
   "source": [
    "# Modüller, Paketler ve Kütüphaneler\n",
    "\n",
    "Modül nedir?\n",
    "\n",
    "Modülü kod parçalarını (fonksiyon, sınıf, değişken vb..) bir arada tutan yapılar olarak tanımlayabiliriz. \n",
    "\n",
    "Paket ise modüllerin bir araya gelerek oluşturdukları yapıdır. \n",
    "\n",
    "Kütüphaneler ise paketlerin bir araya gelerek oluşturdukları yapılardır.\n",
    "\n",
    ">**Modüler Programlama:** \n",
    "Büyük bir programın görevlerini ayrı, daha küçük, daha yönetilebilir alt görevlere veya modüllere bölme işlemini ifade eder. Bireysel modüller daha büyük bir uygulama oluşturmak için yapı taşları gibi birbirine bağlanabilir.\n",
    "\n",
    "Python paketlerini/modüllerini çağırabilmek için `import` anahtar kelimesini kullanırız.\n",
    "\n",
    "## Standart kütüphane örnekleri\n",
    "\n",
    "Tüm modülleri aşağıdaki adresten inceleyebilirsiniz:\n",
    "    \n",
    "https://docs.python.org/3/library/"
   ]
  },
  {
   "cell_type": "code",
   "execution_count": 4,
   "metadata": {},
   "outputs": [
    {
     "data": {
      "text/plain": [
       "1.0"
      ]
     },
     "execution_count": 4,
     "metadata": {},
     "output_type": "execute_result"
    }
   ],
   "source": [
    "import math\n",
    "math.sin(math.pi/2)\n",
    "#help(math)"
   ]
  },
  {
   "cell_type": "markdown",
   "metadata": {},
   "source": [
    "`import ... as ...`"
   ]
  },
  {
   "cell_type": "code",
   "execution_count": 5,
   "metadata": {},
   "outputs": [
    {
     "data": {
      "text/plain": [
       "3.141592653589793"
      ]
     },
     "execution_count": 5,
     "metadata": {},
     "output_type": "execute_result"
    }
   ],
   "source": [
    "import math as matematik\n",
    "matematik.pi\n"
   ]
  },
  {
   "cell_type": "markdown",
   "metadata": {},
   "source": [
    "`from ... import ...`"
   ]
  },
  {
   "cell_type": "code",
   "execution_count": 21,
   "metadata": {},
   "outputs": [
    {
     "data": {
      "text/plain": [
       "8"
      ]
     },
     "execution_count": 21,
     "metadata": {},
     "output_type": "execute_result"
    }
   ],
   "source": [
    "from random import randint \n",
    "randint(1,10)"
   ]
  },
  {
   "cell_type": "code",
   "execution_count": 23,
   "metadata": {},
   "outputs": [
    {
     "data": {
      "text/plain": [
       "'randint'"
      ]
     },
     "execution_count": 23,
     "metadata": {},
     "output_type": "execute_result"
    }
   ],
   "source": [
    "from random import randint as rand\n",
    "rand(1,10)\n",
    "rand.__name__"
   ]
  },
  {
   "cell_type": "code",
   "execution_count": 24,
   "metadata": {},
   "outputs": [
    {
     "data": {
      "text/plain": [
       "'math'"
      ]
     },
     "execution_count": 24,
     "metadata": {},
     "output_type": "execute_result"
    }
   ],
   "source": [
    "import math as m\n",
    "m.__name__"
   ]
  },
  {
   "cell_type": "code",
   "execution_count": 27,
   "metadata": {},
   "outputs": [
    {
     "data": {
      "text/plain": [
       "'C:\\\\Users\\\\Fatih\\\\Anaconda3\\\\lib\\\\os.py'"
      ]
     },
     "execution_count": 27,
     "metadata": {},
     "output_type": "execute_result"
    }
   ],
   "source": [
    "import os\n",
    "os.__file__"
   ]
  },
  {
   "cell_type": "code",
   "execution_count": 31,
   "metadata": {},
   "outputs": [
    {
     "data": {
      "text/plain": [
       "'C:\\\\Users\\\\Fatih\\\\Desktop\\\\Python'"
      ]
     },
     "execution_count": 31,
     "metadata": {},
     "output_type": "execute_result"
    }
   ],
   "source": [
    "from os import getcwd as dizini_bul\n",
    "dizini_bul()"
   ]
  },
  {
   "cell_type": "code",
   "execution_count": 33,
   "metadata": {},
   "outputs": [
    {
     "data": {
      "text/plain": [
       "0"
      ]
     },
     "execution_count": 33,
     "metadata": {},
     "output_type": "execute_result"
    }
   ],
   "source": [
    "import subprocess\n",
    "subprocess.call(\"notepad.exe\")"
   ]
  },
  {
   "cell_type": "code",
   "execution_count": 34,
   "metadata": {},
   "outputs": [
    {
     "data": {
      "text/plain": [
       "True"
      ]
     },
     "execution_count": 34,
     "metadata": {},
     "output_type": "execute_result"
    }
   ],
   "source": [
    "import webbrowser\n",
    "webbrowser.open(\"google.com\")"
   ]
  },
  {
   "cell_type": "code",
   "execution_count": 43,
   "metadata": {},
   "outputs": [
    {
     "data": {
      "text/plain": [
       "1117"
      ]
     },
     "execution_count": 43,
     "metadata": {},
     "output_type": "execute_result"
    }
   ],
   "source": [
    "import statistics as istatistik\n",
    "istatistik.mean([4,5,7543,23,1,236,7])\n",
    "#istatistik.median([4,5,7543,23,1,236,7])"
   ]
  },
  {
   "cell_type": "markdown",
   "metadata": {},
   "source": [
    "## Modul Hazırlama"
   ]
  },
  {
   "cell_type": "code",
   "execution_count": 1,
   "metadata": {},
   "outputs": [
    {
     "data": {
      "text/plain": [
       "[1, 2, 3, 4]"
      ]
     },
     "execution_count": 1,
     "metadata": {},
     "output_type": "execute_result"
    }
   ],
   "source": [
    "import deneme_modul\n",
    "deneme_modul.liste"
   ]
  },
  {
   "cell_type": "code",
   "execution_count": 4,
   "metadata": {},
   "outputs": [
    {
     "ename": "NameError",
     "evalue": "name 'deneme_modul' is not defined",
     "output_type": "error",
     "traceback": [
      "\u001b[1;31m---------------------------------------------------------------------------\u001b[0m",
      "\u001b[1;31mNameError\u001b[0m                                 Traceback (most recent call last)",
      "\u001b[1;32m<ipython-input-4-4b800ac5abfb>\u001b[0m in \u001b[0;36m<module>\u001b[1;34m\u001b[0m\n\u001b[0;32m      1\u001b[0m \u001b[1;32mimport\u001b[0m \u001b[0mimportlib\u001b[0m\u001b[1;33m\u001b[0m\u001b[1;33m\u001b[0m\u001b[0m\n\u001b[1;32m----> 2\u001b[1;33m \u001b[0mimportlib\u001b[0m\u001b[1;33m.\u001b[0m\u001b[0mreload\u001b[0m\u001b[1;33m(\u001b[0m\u001b[0mdeneme_modul\u001b[0m\u001b[1;33m)\u001b[0m \u001b[1;31m#kernel restart etmeden lib e erişmek\u001b[0m\u001b[1;33m\u001b[0m\u001b[1;33m\u001b[0m\u001b[0m\n\u001b[0m\u001b[0;32m      3\u001b[0m \u001b[0mdeneme_modul\u001b[0m\u001b[1;33m.\u001b[0m\u001b[0ma\u001b[0m\u001b[1;33m\u001b[0m\u001b[1;33m\u001b[0m\u001b[0m\n",
      "\u001b[1;31mNameError\u001b[0m: name 'deneme_modul' is not defined"
     ]
    }
   ],
   "source": [
    "import importlib\n",
    "importlib.reload(deneme_modul) #kernel restart etmeden lib e erişmek\n",
    "deneme_modul.a\n"
   ]
  },
  {
   "cell_type": "code",
   "execution_count": 5,
   "metadata": {},
   "outputs": [
    {
     "name": "stdout",
     "output_type": "stream",
     "text": [
      "Merhaba Fatih\n",
      "kendine iyi bak\n"
     ]
    },
    {
     "data": {
      "text/plain": [
       "20.0"
      ]
     },
     "execution_count": 5,
     "metadata": {},
     "output_type": "execute_result"
    }
   ],
   "source": [
    "from deneme_modul import sinif\n",
    "\n",
    "a = sinif()\n",
    "a.selam(\"Fatih\")\n",
    "a.kib()\n",
    "a.sinif_var1"
   ]
  },
  {
   "cell_type": "code",
   "execution_count": 11,
   "metadata": {},
   "outputs": [
    {
     "name": "stdout",
     "output_type": "stream",
     "text": [
      "asdqwe\n",
      "deneme\n",
      "test baslangic\n",
      "input = inp\n",
      "test bitis\n"
     ]
    }
   ],
   "source": [
    "%run deneme_modul.py"
   ]
  },
  {
   "cell_type": "markdown",
   "metadata": {},
   "source": [
    "## Paket / Kütüphane yapısı\n",
    "\n",
    "Birden fazla modül içeren yapılar hazırlamamız mümkün. Bunlara paket denilmektedir.\n",
    "\n",
    "----> paket (klasör)\n",
    "\n",
    "-----------> \\_\\_init\\_\\_.py (başlangıç dosyası)\n",
    "\n",
    "-----------> modul1.py (modül dosyası)\n",
    "\n",
    "-----------> modul2.py (modül dosyası)\n",
    "\n",
    "Modüllere erişim nokta notasyonu (dot notation) ile sağlanmakta\n",
    "\n",
    "\\_\\_init\\_\\_.py  dosyası bir paket veya modül import edildiği zaman çağrılır\n",
    "\n",
    "Ne işe yarar\n",
    "\n",
    "* Paket seviyesindeki verileri yaratmak amacıyla kullanılabilir\n",
    "* otomatik olarak modüllerin eklenmesini sağlamak amacıyla kullanılabilir.\n",
    "* from paket import * yapınca paketlerin hepsinin import edilmesi için \\_\\_all\\_\\_ değişkenine paket isimlerini eklemek lazım\n",
    "* \\_\\_all\\_\\_ modül içinde de kullanılabilir. * kullanınca hangi parametrelerin ekleneceğini kontrol eder.\n",
    "\n",
    "Paket içinde paket tanımlamak mümkündür.\n",
    "\n",
    "-> ana_paket (klasör)\n",
    "\n",
    "----> paket_1 (klasör)\n",
    "\n",
    "-----------> \\_\\_init\\_\\_.py (başlangıç dosyası)\n",
    "\n",
    "-----------> modul1.py (modül dosyası)\n",
    "\n",
    "-----------> modul2.py (modül dosyası)\n",
    "\n",
    "----> paket_2 (klasör)\n",
    "\n",
    "-----------> \\_\\_init_\\_.py (başlangıç dosyası)\n",
    "\n",
    "-----------> modul3.py (modül dosyası)\n",
    "\n",
    "-----------> modul4.py (modül dosyası)\n",
    "\n",
    "* Üst pakete referans vermek isterseniz (mesela modul4.py içerisinden) `from ana_paket.paket_1.modul_1 import fonksiyon` demek lazım\n",
    "\n",
    "* veya relatif import kullanılabilir\n",
    "    * . ana_pakete referans verir `from .. import paket_1`\n",
    "    * `..paket_1` de ilgili pakete götürür"
   ]
  },
  {
   "cell_type": "code",
   "execution_count": 12,
   "metadata": {},
   "outputs": [
    {
     "name": "stdout",
     "output_type": "stream",
     "text": [
      "__init__ fonksiyonu çalıştı... ana_paket\n",
      "__init__ fonksiyonu çalıştı... ana_paket.paket_1\n",
      "__init__ çağrıldı ana_paket.paket_2\n"
     ]
    }
   ],
   "source": [
    "from ana_paket.paket_1 import modul_1, modul_2\n",
    "from ana_paket.paket_2 import modul_3, modul_4"
   ]
  },
  {
   "cell_type": "code",
   "execution_count": 14,
   "metadata": {},
   "outputs": [
    {
     "name": "stdout",
     "output_type": "stream",
     "text": [
      "ana_paket.paket_2.modul_3\n",
      "m3_f1\n",
      "Benim yerim ana_paket.paket_1.modul_1 - adım m1_f1\n"
     ]
    }
   ],
   "source": [
    "modul_3.m3_f1()"
   ]
  },
  {
   "cell_type": "markdown",
   "metadata": {},
   "source": [
    "## Diğer kişiler tarafından üretilmiş modüllerin kurulumu\n",
    "\n",
    "Sıklıkla kullanılan yöntemlere bakalım:\n",
    "\n",
    "### Python Package Index\n",
    "\n",
    "The Python Package Index (PyPI) is a repository of software for the Python programming language.\n",
    "\n",
    "https://pypi.org/\n",
    "\n",
    "> Bunu pip3 kullanarak **komut satırında** yapabilirsiniz. Ama anaconda prompt kullanmanızı tavsiye ederim. \n",
    "\n",
    "örnek: \n",
    "\n",
    "pip3 install numpy\n",
    "\n",
    ">Conda Package Manager\n",
    ">Conda'nın kendi paket yönetim sistemini kullanabilirsiniz\n",
    "\n",
    "https://anaconda.org/anaconda/numpy\n",
    "\n",
    "örnek:\n",
    " \n",
    "conda install -c anaconda numpy \n",
    "\n",
    "### Offline kurulum için zip dosyasını kullanmak\n",
    "\n",
    "Yine Anaconda Prompt kullanıp zip'i açtıktan sonra ilgili dizin altın setup.py dosyasını bulun ve aşağıdaki komutu çalıştırın:\n",
    "\n",
    "`python setup.py install`"
   ]
  }
 ],
 "metadata": {
  "kernelspec": {
   "display_name": "Python 3",
   "language": "python",
   "name": "python3"
  },
  "language_info": {
   "codemirror_mode": {
    "name": "ipython",
    "version": 3
   },
   "file_extension": ".py",
   "mimetype": "text/x-python",
   "name": "python",
   "nbconvert_exporter": "python",
   "pygments_lexer": "ipython3",
   "version": "3.7.4"
  }
 },
 "nbformat": 4,
 "nbformat_minor": 2
}
