{
 "cells": [
  {
   "cell_type": "markdown",
   "metadata": {},
   "source": [
    "# Functions\n"
   ]
  },
  {
   "cell_type": "code",
   "execution_count": 2,
   "metadata": {},
   "outputs": [
    {
     "name": "stdout",
     "output_type": "stream",
     "text": [
      "benim adım fatih\n"
     ]
    }
   ],
   "source": [
    "def func(isim):\n",
    "    print(\"benim adım \" + str(isim))\n",
    "\n",
    "func(\"fatih\")"
   ]
  },
  {
   "cell_type": "code",
   "execution_count": 6,
   "metadata": {},
   "outputs": [
    {
     "name": "stdout",
     "output_type": "stream",
     "text": [
      "fatih\n"
     ]
    }
   ],
   "source": [
    "def func2(isim=\"fatih\"):\n",
    "    print(isim)\n",
    "\n",
    "func2()"
   ]
  },
  {
   "cell_type": "code",
   "execution_count": 8,
   "metadata": {},
   "outputs": [
    {
     "name": "stdout",
     "output_type": "stream",
     "text": [
      "81\n"
     ]
    }
   ],
   "source": [
    "def kare_al(x):\n",
    "    return x*x\n",
    "\n",
    "a = kare_al(9)\n",
    "print(a)"
   ]
  },
  {
   "cell_type": "markdown",
   "metadata": {},
   "source": [
    "### Built-in Functions\n"
   ]
  },
  {
   "cell_type": "code",
   "execution_count": 9,
   "metadata": {},
   "outputs": [
    {
     "name": "stdout",
     "output_type": "stream",
     "text": [
      "Help on built-in function print in module builtins:\n",
      "\n",
      "print(...)\n",
      "    print(value, ..., sep=' ', end='\\n', file=sys.stdout, flush=False)\n",
      "    \n",
      "    Prints the values to a stream, or to sys.stdout by default.\n",
      "    Optional keyword arguments:\n",
      "    file:  a file-like object (stream); defaults to the current sys.stdout.\n",
      "    sep:   string inserted between values, default a space.\n",
      "    end:   string appended after the last value, default a newline.\n",
      "    flush: whether to forcibly flush the stream.\n",
      "\n"
     ]
    }
   ],
   "source": [
    "help(print)"
   ]
  },
  {
   "cell_type": "code",
   "execution_count": 12,
   "metadata": {},
   "outputs": [
    {
     "name": "stdout",
     "output_type": "stream",
     "text": [
      "4\n",
      "5\n",
      "10\n"
     ]
    }
   ],
   "source": [
    "a = [1,2,3,4]\n",
    "print(len(a))\n",
    "print(abs(-5))\n",
    "print(sum(a))"
   ]
  },
  {
   "cell_type": "code",
   "execution_count": 13,
   "metadata": {},
   "outputs": [
    {
     "name": "stdout",
     "output_type": "stream",
     "text": [
      "Help on built-in function abs in module builtins:\n",
      "\n",
      "abs(x, /)\n",
      "    Return the absolute value of the argument.\n",
      "\n"
     ]
    }
   ],
   "source": [
    "help(abs)"
   ]
  },
  {
   "cell_type": "markdown",
   "metadata": {},
   "source": [
    "------------------------------------------"
   ]
  },
  {
   "cell_type": "code",
   "execution_count": 18,
   "metadata": {},
   "outputs": [
    {
     "name": "stdout",
     "output_type": "stream",
     "text": [
      "(9, 27)\n",
      "9\n",
      "27\n",
      "16 64\n"
     ]
    }
   ],
   "source": [
    "def kare_kup_al(x):\n",
    "    return(x**2,x**3)\n",
    "\n",
    "a = kare_kup_al(3)\n",
    "\n",
    "print(a)\n",
    "print(a[0])\n",
    "print(a[1])\n",
    "\n",
    "b,c = kare_kup_al(4)\n",
    "\n",
    "print(b,c)"
   ]
  },
  {
   "cell_type": "code",
   "execution_count": 19,
   "metadata": {},
   "outputs": [
    {
     "data": {
      "text/plain": [
       "(4, 8)"
      ]
     },
     "execution_count": 19,
     "metadata": {},
     "output_type": "execute_result"
    }
   ],
   "source": [
    "a = kare_kup_al\n",
    "a(2)"
   ]
  },
  {
   "cell_type": "markdown",
   "metadata": {},
   "source": [
    "## Lokal ve Global Değişkenler"
   ]
  },
  {
   "cell_type": "code",
   "execution_count": 21,
   "metadata": {},
   "outputs": [
    {
     "name": "stdout",
     "output_type": "stream",
     "text": [
      "2\n",
      "1\n"
     ]
    }
   ],
   "source": [
    "x = 1\n",
    "\n",
    "def deneme():\n",
    "    x = 2\n",
    "    print(x)\n",
    "\n",
    "deneme()\n",
    "print(x)\n",
    "    "
   ]
  },
  {
   "cell_type": "markdown",
   "metadata": {},
   "source": [
    "--------------------"
   ]
  },
  {
   "cell_type": "markdown",
   "metadata": {},
   "source": [
    "## Return A  Function"
   ]
  },
  {
   "cell_type": "code",
   "execution_count": 27,
   "metadata": {},
   "outputs": [
    {
     "name": "stdout",
     "output_type": "stream",
     "text": [
      "27\n",
      "9\n"
     ]
    }
   ],
   "source": [
    "def power(n):\n",
    "    \"\"\"\n",
    "        Bu bir Yardım Dosyasıdır!!\n",
    "    \"\"\"\n",
    "    def calculate_x(x):\n",
    "        return x**n\n",
    "    \n",
    "    return calculate_x\n",
    "\n",
    "kup_al = power(3)\n",
    "kare_al = power(2)\n",
    "print(kup_al(3))\n",
    "print(kare_al(3))"
   ]
  },
  {
   "cell_type": "code",
   "execution_count": 28,
   "metadata": {},
   "outputs": [
    {
     "name": "stdout",
     "output_type": "stream",
     "text": [
      "Help on function power in module __main__:\n",
      "\n",
      "power(n)\n",
      "    Bu bir Yardım Dosyasıdır!!\n",
      "\n"
     ]
    }
   ],
   "source": [
    "help(power)"
   ]
  },
  {
   "cell_type": "markdown",
   "metadata": {},
   "source": [
    "## Parametre olarak fonksiyon"
   ]
  },
  {
   "cell_type": "code",
   "execution_count": 31,
   "metadata": {},
   "outputs": [
    {
     "name": "stdout",
     "output_type": "stream",
     "text": [
      "91\n"
     ]
    }
   ],
   "source": [
    "def func1(x):\n",
    "    return x**2\n",
    "\n",
    "def topla_func(liste,func):\n",
    "    toplam = 0\n",
    "    \n",
    "    for a in liste:\n",
    "        toplam += func(a)\n",
    "    \n",
    "    print(toplam)\n",
    "\n",
    "        \n",
    "liste = [1,2,3,4,5,6]\n",
    "topla_func(liste,func1)"
   ]
  },
  {
   "cell_type": "markdown",
   "metadata": {},
   "source": [
    "## Mutable Objects"
   ]
  },
  {
   "cell_type": "code",
   "execution_count": 33,
   "metadata": {},
   "outputs": [
    {
     "name": "stdout",
     "output_type": "stream",
     "text": [
      "[42, 2, 3, 42]\n",
      "[42, 2, 3, 42]\n"
     ]
    }
   ],
   "source": [
    "def list_inp(a):\n",
    "    a[0] = 42\n",
    "    a.append(42)\n",
    "    return a\n",
    "\n",
    "b = [1,2,3]\n",
    "print(list_inp(b))\n",
    "print(b)"
   ]
  },
  {
   "cell_type": "code",
   "execution_count": 34,
   "metadata": {},
   "outputs": [
    {
     "data": {
      "text/plain": [
       "{1: 'asdwqwezxc', 2: 'b'}"
      ]
     },
     "execution_count": 34,
     "metadata": {},
     "output_type": "execute_result"
    }
   ],
   "source": [
    "d = {1:\"a\",2:\"b\"}\n",
    "\n",
    "def dict_inp(dummy):\n",
    "    dummy[1] = \"asdwqwezxc\"\n",
    "    return dummy\n",
    "\n",
    "dict_inp(d)"
   ]
  },
  {
   "cell_type": "markdown",
   "metadata": {},
   "source": [
    "## Recursion "
   ]
  },
  {
   "cell_type": "code",
   "execution_count": 46,
   "metadata": {},
   "outputs": [
    {
     "data": {
      "text/plain": [
       "6"
      ]
     },
     "execution_count": 46,
     "metadata": {},
     "output_type": "execute_result"
    }
   ],
   "source": [
    "def rec_topla(x):\n",
    "    \n",
    "    if (x <= 0):\n",
    "        return 0\n",
    "    return x + rec_topla(x-1)\n",
    "            \n",
    "\n",
    "rec_topla(3)"
   ]
  },
  {
   "cell_type": "code",
   "execution_count": 50,
   "metadata": {},
   "outputs": [
    {
     "data": {
      "text/plain": [
       "514229"
      ]
     },
     "execution_count": 50,
     "metadata": {},
     "output_type": "execute_result"
    }
   ],
   "source": [
    "def fib(x):\n",
    "    if x < 0:\n",
    "        print(\"parametre pozitif olmalı\")\n",
    "    elif x == 0:\n",
    "        return 0\n",
    "    elif x == 1:\n",
    "        return 1\n",
    "    else:\n",
    "        return fib(x-2) + fib(x-1)\n",
    "    \n",
    "fib(29)  \n",
    "    "
   ]
  },
  {
   "cell_type": "code",
   "execution_count": 57,
   "metadata": {},
   "outputs": [
    {
     "name": "stdout",
     "output_type": "stream",
     "text": [
      "0 1 1 2 3 5 8 13 "
     ]
    }
   ],
   "source": [
    "#Pythonic way\n",
    "def fib2(n):\n",
    "    a,b = 0,1\n",
    "    while a <= n:\n",
    "        print(a,end=\" \")\n",
    "        a,b = b,a+b\n",
    "\n",
    "fib2(13)"
   ]
  },
  {
   "cell_type": "markdown",
   "metadata": {},
   "source": [
    "## Lambda "
   ]
  },
  {
   "cell_type": "code",
   "execution_count": 58,
   "metadata": {},
   "outputs": [
    {
     "data": {
      "text/plain": [
       "3"
      ]
     },
     "execution_count": 58,
     "metadata": {},
     "output_type": "execute_result"
    }
   ],
   "source": [
    "topla = lambda x,y: x+y\n",
    "topla(2,1)"
   ]
  },
  {
   "cell_type": "code",
   "execution_count": 61,
   "metadata": {},
   "outputs": [
    {
     "name": "stdout",
     "output_type": "stream",
     "text": [
      "16\n",
      "64\n",
      "2.0\n"
     ]
    }
   ],
   "source": [
    "def kuvvet_al(x):\n",
    "    return lambda a: a**x\n",
    "    \n",
    "kare_al = kuvvet_al(2)\n",
    "kup_al = kuvvet_al(3)\n",
    "karekok_al = kuvvet_al(0.5)\n",
    "\n",
    "print(kare_al(4))\n",
    "print(kup_al(4))\n",
    "print(karekok_al(4))"
   ]
  }
 ],
 "metadata": {
  "kernelspec": {
   "display_name": "Python 3",
   "language": "python",
   "name": "python3"
  },
  "language_info": {
   "codemirror_mode": {
    "name": "ipython",
    "version": 3
   },
   "file_extension": ".py",
   "mimetype": "text/x-python",
   "name": "python",
   "nbconvert_exporter": "python",
   "pygments_lexer": "ipython3",
   "version": "3.7.4"
  }
 },
 "nbformat": 4,
 "nbformat_minor": 2
}
