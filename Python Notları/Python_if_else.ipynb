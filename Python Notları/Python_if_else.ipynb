{
 "cells": [
  {
   "cell_type": "code",
   "execution_count": 6,
   "metadata": {},
   "outputs": [
    {
     "name": "stdout",
     "output_type": "stream",
     "text": [
      "a b ye eşit değil\n"
     ]
    }
   ],
   "source": [
    "a = 3\n",
    "b = 4\n",
    "if (a ==b):\n",
    "    print(\"a, b ye eşittir\")\n",
    "else:\n",
    "    print(\"a b ye eşit değil\")\n",
    "        \n",
    "    \n",
    "    "
   ]
  },
  {
   "cell_type": "code",
   "execution_count": 12,
   "metadata": {},
   "outputs": [
    {
     "name": "stdout",
     "output_type": "stream",
     "text": [
      "c büyük d\n"
     ]
    }
   ],
   "source": [
    "c = 10\n",
    "d = 4\n",
    "\n",
    "if(c<d):\n",
    "    print(\"c küçük d\")\n",
    "elif(c > d):\n",
    "    print(\"c büyük d\")\n",
    "else:\n",
    "    print(\"eşit\")"
   ]
  },
  {
   "cell_type": "code",
   "execution_count": 18,
   "metadata": {},
   "outputs": [
    {
     "name": "stdout",
     "output_type": "stream",
     "text": [
      "bir sayi giriniz : 13\n",
      "pozitif\n"
     ]
    }
   ],
   "source": [
    "num = float(input(\"bir sayi giriniz : \"))\n",
    "\n",
    "if num >= 0:\n",
    "    if num == 0:\n",
    "        print(\"sıfır\")\n",
    "    else:\n",
    "        print(\"pozitif\")\n",
    "else:\n",
    "    print(\"negatif\")\n",
    "        "
   ]
  },
  {
   "cell_type": "code",
   "execution_count": 22,
   "metadata": {},
   "outputs": [
    {
     "name": "stdout",
     "output_type": "stream",
     "text": [
      "a, b ve c den büyüktür\n"
     ]
    }
   ],
   "source": [
    "a = 10\n",
    "b = 4\n",
    "c = 3\n",
    "\n",
    "if (a > b) and (a > c):\n",
    "    print(\"a, b ve c den büyüktür\")\n",
    "else:\n",
    "    print(\"...........\")"
   ]
  },
  {
   "cell_type": "code",
   "execution_count": 23,
   "metadata": {},
   "outputs": [
    {
     "name": "stdout",
     "output_type": "stream",
     "text": [
      "OK\n"
     ]
    }
   ],
   "source": [
    "a = 1\n",
    "b = 2\n",
    "c = 3\n",
    "\n",
    "if(b > c) or (b > a):\n",
    "    print(\"OK\")"
   ]
  },
  {
   "cell_type": "code",
   "execution_count": 24,
   "metadata": {},
   "outputs": [
    {
     "name": "stdout",
     "output_type": "stream",
     "text": [
      "OK\n"
     ]
    }
   ],
   "source": [
    "a = 3\n",
    "b = 2\n",
    "if not (b>a):\n",
    "    print(\"OK\")"
   ]
  }
 ],
 "metadata": {
  "kernelspec": {
   "display_name": "Python 3",
   "language": "python",
   "name": "python3"
  },
  "language_info": {
   "codemirror_mode": {
    "name": "ipython",
    "version": 3
   },
   "file_extension": ".py",
   "mimetype": "text/x-python",
   "name": "python",
   "nbconvert_exporter": "python",
   "pygments_lexer": "ipython3",
   "version": "3.7.4"
  }
 },
 "nbformat": 4,
 "nbformat_minor": 2
}
